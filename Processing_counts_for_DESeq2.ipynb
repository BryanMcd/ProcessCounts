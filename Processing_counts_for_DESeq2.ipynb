{
 "cells": [
  {
   "cell_type": "code",
   "execution_count": 2,
   "metadata": {
    "collapsed": true
   },
   "outputs": [],
   "source": [
    "import pandas as pd"
   ]
  },
  {
   "cell_type": "code",
   "execution_count": 3,
   "metadata": {
    "collapsed": true
   },
   "outputs": [],
   "source": [
    "counts = pd.read_table(\"/home/ucsd-train09/projects/mouse_LPS/featureCounts/featurecounts.txt\",\n",
    "                      index_col=0, comment=\"#\")"
   ]
  },
  {
   "cell_type": "code",
   "execution_count": 4,
   "metadata": {},
   "outputs": [
    {
     "data": {
      "text/html": [
       "<div>\n",
       "<style>\n",
       "    .dataframe thead tr:only-child th {\n",
       "        text-align: right;\n",
       "    }\n",
       "\n",
       "    .dataframe thead th {\n",
       "        text-align: left;\n",
       "    }\n",
       "\n",
       "    .dataframe tbody tr th {\n",
       "        vertical-align: top;\n",
       "    }\n",
       "</style>\n",
       "<table border=\"1\" class=\"dataframe\">\n",
       "  <thead>\n",
       "    <tr style=\"text-align: right;\">\n",
       "      <th></th>\n",
       "      <th>Chr</th>\n",
       "      <th>Start</th>\n",
       "      <th>End</th>\n",
       "      <th>Strand</th>\n",
       "      <th>Length</th>\n",
       "      <th>/home/ucsd-train09/projects/star_alignment/Aligned.out.sam</th>\n",
       "      <th>/home/ucsd-train09/projects/star_alignment/mouse_0hr_rep1_Aligned.out.sam</th>\n",
       "      <th>/home/ucsd-train09/projects/star_alignment/mouse_0hr_rep2_Aligned.out.sam</th>\n",
       "      <th>/home/ucsd-train09/projects/star_alignment/mouse_4hr_rep1_Aligned.out.sam</th>\n",
       "      <th>/home/ucsd-train09/projects/star_alignment/mouse_4hr_rep2_Aligned.out.sam</th>\n",
       "    </tr>\n",
       "    <tr>\n",
       "      <th>Geneid</th>\n",
       "      <th></th>\n",
       "      <th></th>\n",
       "      <th></th>\n",
       "      <th></th>\n",
       "      <th></th>\n",
       "      <th></th>\n",
       "      <th></th>\n",
       "      <th></th>\n",
       "      <th></th>\n",
       "      <th></th>\n",
       "    </tr>\n",
       "  </thead>\n",
       "  <tbody>\n",
       "    <tr>\n",
       "      <th>ENSMUSG00000102693.1</th>\n",
       "      <td>chr1</td>\n",
       "      <td>3073253</td>\n",
       "      <td>3074322</td>\n",
       "      <td>+</td>\n",
       "      <td>1070</td>\n",
       "      <td>0</td>\n",
       "      <td>0</td>\n",
       "      <td>0</td>\n",
       "      <td>0</td>\n",
       "      <td>0</td>\n",
       "    </tr>\n",
       "    <tr>\n",
       "      <th>ENSMUSG00000064842.1</th>\n",
       "      <td>chr1</td>\n",
       "      <td>3102016</td>\n",
       "      <td>3102125</td>\n",
       "      <td>+</td>\n",
       "      <td>110</td>\n",
       "      <td>0</td>\n",
       "      <td>0</td>\n",
       "      <td>0</td>\n",
       "      <td>0</td>\n",
       "      <td>0</td>\n",
       "    </tr>\n",
       "    <tr>\n",
       "      <th>ENSMUSG00000051951.5</th>\n",
       "      <td>chr1;chr1;chr1;chr1;chr1;chr1;chr1</td>\n",
       "      <td>3205901;3206523;3213439;3213609;3214482;342170...</td>\n",
       "      <td>3207317;3207317;3215632;3216344;3216968;342190...</td>\n",
       "      <td>-;-;-;-;-;-;-</td>\n",
       "      <td>6094</td>\n",
       "      <td>0</td>\n",
       "      <td>0</td>\n",
       "      <td>0</td>\n",
       "      <td>1</td>\n",
       "      <td>0</td>\n",
       "    </tr>\n",
       "    <tr>\n",
       "      <th>ENSMUSG00000102851.1</th>\n",
       "      <td>chr1</td>\n",
       "      <td>3252757</td>\n",
       "      <td>3253236</td>\n",
       "      <td>+</td>\n",
       "      <td>480</td>\n",
       "      <td>0</td>\n",
       "      <td>0</td>\n",
       "      <td>0</td>\n",
       "      <td>0</td>\n",
       "      <td>0</td>\n",
       "    </tr>\n",
       "    <tr>\n",
       "      <th>ENSMUSG00000103377.1</th>\n",
       "      <td>chr1</td>\n",
       "      <td>3365731</td>\n",
       "      <td>3368549</td>\n",
       "      <td>-</td>\n",
       "      <td>2819</td>\n",
       "      <td>1</td>\n",
       "      <td>2</td>\n",
       "      <td>0</td>\n",
       "      <td>0</td>\n",
       "      <td>0</td>\n",
       "    </tr>\n",
       "  </tbody>\n",
       "</table>\n",
       "</div>"
      ],
      "text/plain": [
       "                                                     Chr  \\\n",
       "Geneid                                                     \n",
       "ENSMUSG00000102693.1                                chr1   \n",
       "ENSMUSG00000064842.1                                chr1   \n",
       "ENSMUSG00000051951.5  chr1;chr1;chr1;chr1;chr1;chr1;chr1   \n",
       "ENSMUSG00000102851.1                                chr1   \n",
       "ENSMUSG00000103377.1                                chr1   \n",
       "\n",
       "                                                                  Start  \\\n",
       "Geneid                                                                    \n",
       "ENSMUSG00000102693.1                                            3073253   \n",
       "ENSMUSG00000064842.1                                            3102016   \n",
       "ENSMUSG00000051951.5  3205901;3206523;3213439;3213609;3214482;342170...   \n",
       "ENSMUSG00000102851.1                                            3252757   \n",
       "ENSMUSG00000103377.1                                            3365731   \n",
       "\n",
       "                                                                    End  \\\n",
       "Geneid                                                                    \n",
       "ENSMUSG00000102693.1                                            3074322   \n",
       "ENSMUSG00000064842.1                                            3102125   \n",
       "ENSMUSG00000051951.5  3207317;3207317;3215632;3216344;3216968;342190...   \n",
       "ENSMUSG00000102851.1                                            3253236   \n",
       "ENSMUSG00000103377.1                                            3368549   \n",
       "\n",
       "                             Strand  Length  \\\n",
       "Geneid                                        \n",
       "ENSMUSG00000102693.1              +    1070   \n",
       "ENSMUSG00000064842.1              +     110   \n",
       "ENSMUSG00000051951.5  -;-;-;-;-;-;-    6094   \n",
       "ENSMUSG00000102851.1              +     480   \n",
       "ENSMUSG00000103377.1              -    2819   \n",
       "\n",
       "                      /home/ucsd-train09/projects/star_alignment/Aligned.out.sam  \\\n",
       "Geneid                                                                             \n",
       "ENSMUSG00000102693.1                                                  0            \n",
       "ENSMUSG00000064842.1                                                  0            \n",
       "ENSMUSG00000051951.5                                                  0            \n",
       "ENSMUSG00000102851.1                                                  0            \n",
       "ENSMUSG00000103377.1                                                  1            \n",
       "\n",
       "                      /home/ucsd-train09/projects/star_alignment/mouse_0hr_rep1_Aligned.out.sam  \\\n",
       "Geneid                                                                                            \n",
       "ENSMUSG00000102693.1                                                  0                           \n",
       "ENSMUSG00000064842.1                                                  0                           \n",
       "ENSMUSG00000051951.5                                                  0                           \n",
       "ENSMUSG00000102851.1                                                  0                           \n",
       "ENSMUSG00000103377.1                                                  2                           \n",
       "\n",
       "                      /home/ucsd-train09/projects/star_alignment/mouse_0hr_rep2_Aligned.out.sam  \\\n",
       "Geneid                                                                                            \n",
       "ENSMUSG00000102693.1                                                  0                           \n",
       "ENSMUSG00000064842.1                                                  0                           \n",
       "ENSMUSG00000051951.5                                                  0                           \n",
       "ENSMUSG00000102851.1                                                  0                           \n",
       "ENSMUSG00000103377.1                                                  0                           \n",
       "\n",
       "                      /home/ucsd-train09/projects/star_alignment/mouse_4hr_rep1_Aligned.out.sam  \\\n",
       "Geneid                                                                                            \n",
       "ENSMUSG00000102693.1                                                  0                           \n",
       "ENSMUSG00000064842.1                                                  0                           \n",
       "ENSMUSG00000051951.5                                                  1                           \n",
       "ENSMUSG00000102851.1                                                  0                           \n",
       "ENSMUSG00000103377.1                                                  0                           \n",
       "\n",
       "                      /home/ucsd-train09/projects/star_alignment/mouse_4hr_rep2_Aligned.out.sam  \n",
       "Geneid                                                                                           \n",
       "ENSMUSG00000102693.1                                                  0                          \n",
       "ENSMUSG00000064842.1                                                  0                          \n",
       "ENSMUSG00000051951.5                                                  0                          \n",
       "ENSMUSG00000102851.1                                                  0                          \n",
       "ENSMUSG00000103377.1                                                  0                          "
      ]
     },
     "execution_count": 4,
     "metadata": {},
     "output_type": "execute_result"
    }
   ],
   "source": [
    "counts.head()"
   ]
  },
  {
   "cell_type": "code",
   "execution_count": 5,
   "metadata": {
    "collapsed": true
   },
   "outputs": [],
   "source": [
    "cols_to_drop = ['Chr', 'Start', 'End', 'Strand', '/home/ucsd-train09/projects/star_alignment/Aligned.out.sam']"
   ]
  },
  {
   "cell_type": "code",
   "execution_count": 6,
   "metadata": {
    "collapsed": true
   },
   "outputs": [],
   "source": [
    "counts_1 = counts.drop(cols_to_drop, axis=1)"
   ]
  },
  {
   "cell_type": "code",
   "execution_count": 9,
   "metadata": {},
   "outputs": [
    {
     "data": {
      "text/html": [
       "<div>\n",
       "<style>\n",
       "    .dataframe thead tr:only-child th {\n",
       "        text-align: right;\n",
       "    }\n",
       "\n",
       "    .dataframe thead th {\n",
       "        text-align: left;\n",
       "    }\n",
       "\n",
       "    .dataframe tbody tr th {\n",
       "        vertical-align: top;\n",
       "    }\n",
       "</style>\n",
       "<table border=\"1\" class=\"dataframe\">\n",
       "  <thead>\n",
       "    <tr style=\"text-align: right;\">\n",
       "      <th></th>\n",
       "      <th>Length</th>\n",
       "      <th>/home/ucsd-train09/projects/star_alignment/mouse_0hr_rep1_Aligned.out.sam</th>\n",
       "      <th>/home/ucsd-train09/projects/star_alignment/mouse_0hr_rep2_Aligned.out.sam</th>\n",
       "      <th>/home/ucsd-train09/projects/star_alignment/mouse_4hr_rep1_Aligned.out.sam</th>\n",
       "      <th>/home/ucsd-train09/projects/star_alignment/mouse_4hr_rep2_Aligned.out.sam</th>\n",
       "    </tr>\n",
       "    <tr>\n",
       "      <th>Geneid</th>\n",
       "      <th></th>\n",
       "      <th></th>\n",
       "      <th></th>\n",
       "      <th></th>\n",
       "      <th></th>\n",
       "    </tr>\n",
       "  </thead>\n",
       "  <tbody>\n",
       "    <tr>\n",
       "      <th>ENSMUSG00000102693.1</th>\n",
       "      <td>1070</td>\n",
       "      <td>0</td>\n",
       "      <td>0</td>\n",
       "      <td>0</td>\n",
       "      <td>0</td>\n",
       "    </tr>\n",
       "    <tr>\n",
       "      <th>ENSMUSG00000064842.1</th>\n",
       "      <td>110</td>\n",
       "      <td>0</td>\n",
       "      <td>0</td>\n",
       "      <td>0</td>\n",
       "      <td>0</td>\n",
       "    </tr>\n",
       "    <tr>\n",
       "      <th>ENSMUSG00000051951.5</th>\n",
       "      <td>6094</td>\n",
       "      <td>0</td>\n",
       "      <td>0</td>\n",
       "      <td>1</td>\n",
       "      <td>0</td>\n",
       "    </tr>\n",
       "    <tr>\n",
       "      <th>ENSMUSG00000102851.1</th>\n",
       "      <td>480</td>\n",
       "      <td>0</td>\n",
       "      <td>0</td>\n",
       "      <td>0</td>\n",
       "      <td>0</td>\n",
       "    </tr>\n",
       "    <tr>\n",
       "      <th>ENSMUSG00000103377.1</th>\n",
       "      <td>2819</td>\n",
       "      <td>2</td>\n",
       "      <td>0</td>\n",
       "      <td>0</td>\n",
       "      <td>0</td>\n",
       "    </tr>\n",
       "  </tbody>\n",
       "</table>\n",
       "</div>"
      ],
      "text/plain": [
       "                      Length  \\\n",
       "Geneid                         \n",
       "ENSMUSG00000102693.1    1070   \n",
       "ENSMUSG00000064842.1     110   \n",
       "ENSMUSG00000051951.5    6094   \n",
       "ENSMUSG00000102851.1     480   \n",
       "ENSMUSG00000103377.1    2819   \n",
       "\n",
       "                      /home/ucsd-train09/projects/star_alignment/mouse_0hr_rep1_Aligned.out.sam  \\\n",
       "Geneid                                                                                            \n",
       "ENSMUSG00000102693.1                                                  0                           \n",
       "ENSMUSG00000064842.1                                                  0                           \n",
       "ENSMUSG00000051951.5                                                  0                           \n",
       "ENSMUSG00000102851.1                                                  0                           \n",
       "ENSMUSG00000103377.1                                                  2                           \n",
       "\n",
       "                      /home/ucsd-train09/projects/star_alignment/mouse_0hr_rep2_Aligned.out.sam  \\\n",
       "Geneid                                                                                            \n",
       "ENSMUSG00000102693.1                                                  0                           \n",
       "ENSMUSG00000064842.1                                                  0                           \n",
       "ENSMUSG00000051951.5                                                  0                           \n",
       "ENSMUSG00000102851.1                                                  0                           \n",
       "ENSMUSG00000103377.1                                                  0                           \n",
       "\n",
       "                      /home/ucsd-train09/projects/star_alignment/mouse_4hr_rep1_Aligned.out.sam  \\\n",
       "Geneid                                                                                            \n",
       "ENSMUSG00000102693.1                                                  0                           \n",
       "ENSMUSG00000064842.1                                                  0                           \n",
       "ENSMUSG00000051951.5                                                  1                           \n",
       "ENSMUSG00000102851.1                                                  0                           \n",
       "ENSMUSG00000103377.1                                                  0                           \n",
       "\n",
       "                      /home/ucsd-train09/projects/star_alignment/mouse_4hr_rep2_Aligned.out.sam  \n",
       "Geneid                                                                                           \n",
       "ENSMUSG00000102693.1                                                  0                          \n",
       "ENSMUSG00000064842.1                                                  0                          \n",
       "ENSMUSG00000051951.5                                                  0                          \n",
       "ENSMUSG00000102851.1                                                  0                          \n",
       "ENSMUSG00000103377.1                                                  0                          "
      ]
     },
     "execution_count": 9,
     "metadata": {},
     "output_type": "execute_result"
    }
   ],
   "source": [
    "counts_1.head()"
   ]
  },
  {
   "cell_type": "code",
   "execution_count": 10,
   "metadata": {},
   "outputs": [
    {
     "data": {
      "text/plain": [
       "(53379, 5)"
      ]
     },
     "execution_count": 10,
     "metadata": {},
     "output_type": "execute_result"
    }
   ],
   "source": [
    "counts_1.shape"
   ]
  },
  {
   "cell_type": "code",
   "execution_count": 11,
   "metadata": {},
   "outputs": [
    {
     "data": {
      "text/plain": [
       "Index([u'Length',\n",
       "       u'/home/ucsd-train09/projects/star_alignment/mouse_0hr_rep1_Aligned.out.sam',\n",
       "       u'/home/ucsd-train09/projects/star_alignment/mouse_0hr_rep2_Aligned.out.sam',\n",
       "       u'/home/ucsd-train09/projects/star_alignment/mouse_4hr_rep1_Aligned.out.sam',\n",
       "       u'/home/ucsd-train09/projects/star_alignment/mouse_4hr_rep2_Aligned.out.sam'],\n",
       "      dtype='object')"
      ]
     },
     "execution_count": 11,
     "metadata": {},
     "output_type": "execute_result"
    }
   ],
   "source": [
    "counts_1.columns"
   ]
  },
  {
   "cell_type": "code",
   "execution_count": 13,
   "metadata": {},
   "outputs": [],
   "source": [
    "col_names = {'/home/ucsd-train09/projects/star_alignment/mouse_0hr_rep1_Aligned.out.sam':'mouse_0hr_rep1',\n",
    "            '/home/ucsd-train09/projects/star_alignment/mouse_0hr_rep2_Aligned.out.sam':'mouse_0hr_rep2',\n",
    "            '/home/ucsd-train09/projects/star_alignment/mouse_4hr_rep1_Aligned.out.sam':'mouse_4hr_rep1',\n",
    "            '/home/ucsd-train09/projects/star_alignment/mouse_4hr_rep2_Aligned.out.sam':'mouse_4hr_rep2'}"
   ]
  },
  {
   "cell_type": "code",
   "execution_count": 14,
   "metadata": {
    "collapsed": true
   },
   "outputs": [],
   "source": [
    "counts_1 = counts_1.rename(columns=col_names)"
   ]
  },
  {
   "cell_type": "code",
   "execution_count": 17,
   "metadata": {},
   "outputs": [
    {
     "data": {
      "text/html": [
       "<div>\n",
       "<style>\n",
       "    .dataframe thead tr:only-child th {\n",
       "        text-align: right;\n",
       "    }\n",
       "\n",
       "    .dataframe thead th {\n",
       "        text-align: left;\n",
       "    }\n",
       "\n",
       "    .dataframe tbody tr th {\n",
       "        vertical-align: top;\n",
       "    }\n",
       "</style>\n",
       "<table border=\"1\" class=\"dataframe\">\n",
       "  <thead>\n",
       "    <tr style=\"text-align: right;\">\n",
       "      <th></th>\n",
       "      <th>Length</th>\n",
       "      <th>mouse_0hr_rep1</th>\n",
       "      <th>mouse_0hr_rep2</th>\n",
       "      <th>mouse_4hr_rep1</th>\n",
       "      <th>mouse_4hr_rep2</th>\n",
       "    </tr>\n",
       "    <tr>\n",
       "      <th>Geneid</th>\n",
       "      <th></th>\n",
       "      <th></th>\n",
       "      <th></th>\n",
       "      <th></th>\n",
       "      <th></th>\n",
       "    </tr>\n",
       "  </thead>\n",
       "  <tbody>\n",
       "    <tr>\n",
       "      <th>ENSMUSG00000102693.1</th>\n",
       "      <td>1070</td>\n",
       "      <td>0</td>\n",
       "      <td>0</td>\n",
       "      <td>0</td>\n",
       "      <td>0</td>\n",
       "    </tr>\n",
       "    <tr>\n",
       "      <th>ENSMUSG00000064842.1</th>\n",
       "      <td>110</td>\n",
       "      <td>0</td>\n",
       "      <td>0</td>\n",
       "      <td>0</td>\n",
       "      <td>0</td>\n",
       "    </tr>\n",
       "    <tr>\n",
       "      <th>ENSMUSG00000051951.5</th>\n",
       "      <td>6094</td>\n",
       "      <td>0</td>\n",
       "      <td>0</td>\n",
       "      <td>1</td>\n",
       "      <td>0</td>\n",
       "    </tr>\n",
       "    <tr>\n",
       "      <th>ENSMUSG00000102851.1</th>\n",
       "      <td>480</td>\n",
       "      <td>0</td>\n",
       "      <td>0</td>\n",
       "      <td>0</td>\n",
       "      <td>0</td>\n",
       "    </tr>\n",
       "    <tr>\n",
       "      <th>ENSMUSG00000103377.1</th>\n",
       "      <td>2819</td>\n",
       "      <td>2</td>\n",
       "      <td>0</td>\n",
       "      <td>0</td>\n",
       "      <td>0</td>\n",
       "    </tr>\n",
       "  </tbody>\n",
       "</table>\n",
       "</div>"
      ],
      "text/plain": [
       "                      Length  mouse_0hr_rep1  mouse_0hr_rep2  mouse_4hr_rep1  \\\n",
       "Geneid                                                                         \n",
       "ENSMUSG00000102693.1    1070               0               0               0   \n",
       "ENSMUSG00000064842.1     110               0               0               0   \n",
       "ENSMUSG00000051951.5    6094               0               0               1   \n",
       "ENSMUSG00000102851.1     480               0               0               0   \n",
       "ENSMUSG00000103377.1    2819               2               0               0   \n",
       "\n",
       "                      mouse_4hr_rep2  \n",
       "Geneid                                \n",
       "ENSMUSG00000102693.1               0  \n",
       "ENSMUSG00000064842.1               0  \n",
       "ENSMUSG00000051951.5               0  \n",
       "ENSMUSG00000102851.1               0  \n",
       "ENSMUSG00000103377.1               0  "
      ]
     },
     "execution_count": 17,
     "metadata": {},
     "output_type": "execute_result"
    }
   ],
   "source": [
    "counts_1.head()"
   ]
  },
  {
   "cell_type": "code",
   "execution_count": 18,
   "metadata": {},
   "outputs": [],
   "source": [
    "samples = ['mouse_0hr_rep1', 'mouse_0hr_rep2', 'mouse_4hr_rep1', 'mouse_4hr_rep2']"
   ]
  },
  {
   "cell_type": "code",
   "execution_count": 19,
   "metadata": {},
   "outputs": [
    {
     "data": {
      "text/plain": [
       "['mouse_0hr_rep1', 'mouse_0hr_rep2', 'mouse_4hr_rep1', 'mouse_4hr_rep2']"
      ]
     },
     "execution_count": 19,
     "metadata": {},
     "output_type": "execute_result"
    }
   ],
   "source": [
    "samples"
   ]
  },
  {
   "cell_type": "code",
   "execution_count": 23,
   "metadata": {},
   "outputs": [
    {
     "data": {
      "text/html": [
       "<div>\n",
       "<style>\n",
       "    .dataframe thead tr:only-child th {\n",
       "        text-align: right;\n",
       "    }\n",
       "\n",
       "    .dataframe thead th {\n",
       "        text-align: left;\n",
       "    }\n",
       "\n",
       "    .dataframe tbody tr th {\n",
       "        vertical-align: top;\n",
       "    }\n",
       "</style>\n",
       "<table border=\"1\" class=\"dataframe\">\n",
       "  <thead>\n",
       "    <tr style=\"text-align: right;\">\n",
       "      <th></th>\n",
       "      <th>mouse_0hr_rep1</th>\n",
       "      <th>mouse_0hr_rep2</th>\n",
       "      <th>mouse_4hr_rep1</th>\n",
       "      <th>mouse_4hr_rep2</th>\n",
       "    </tr>\n",
       "    <tr>\n",
       "      <th>Geneid</th>\n",
       "      <th></th>\n",
       "      <th></th>\n",
       "      <th></th>\n",
       "      <th></th>\n",
       "    </tr>\n",
       "  </thead>\n",
       "  <tbody>\n",
       "    <tr>\n",
       "      <th>ENSMUSG00000102693.1</th>\n",
       "      <td>0</td>\n",
       "      <td>0</td>\n",
       "      <td>0</td>\n",
       "      <td>0</td>\n",
       "    </tr>\n",
       "    <tr>\n",
       "      <th>ENSMUSG00000064842.1</th>\n",
       "      <td>0</td>\n",
       "      <td>0</td>\n",
       "      <td>0</td>\n",
       "      <td>0</td>\n",
       "    </tr>\n",
       "    <tr>\n",
       "      <th>ENSMUSG00000051951.5</th>\n",
       "      <td>0</td>\n",
       "      <td>0</td>\n",
       "      <td>1</td>\n",
       "      <td>0</td>\n",
       "    </tr>\n",
       "    <tr>\n",
       "      <th>ENSMUSG00000102851.1</th>\n",
       "      <td>0</td>\n",
       "      <td>0</td>\n",
       "      <td>0</td>\n",
       "      <td>0</td>\n",
       "    </tr>\n",
       "    <tr>\n",
       "      <th>ENSMUSG00000103377.1</th>\n",
       "      <td>2</td>\n",
       "      <td>0</td>\n",
       "      <td>0</td>\n",
       "      <td>0</td>\n",
       "    </tr>\n",
       "  </tbody>\n",
       "</table>\n",
       "</div>"
      ],
      "text/plain": [
       "                      mouse_0hr_rep1  mouse_0hr_rep2  mouse_4hr_rep1  \\\n",
       "Geneid                                                                 \n",
       "ENSMUSG00000102693.1               0               0               0   \n",
       "ENSMUSG00000064842.1               0               0               0   \n",
       "ENSMUSG00000051951.5               0               0               1   \n",
       "ENSMUSG00000102851.1               0               0               0   \n",
       "ENSMUSG00000103377.1               2               0               0   \n",
       "\n",
       "                      mouse_4hr_rep2  \n",
       "Geneid                                \n",
       "ENSMUSG00000102693.1               0  \n",
       "ENSMUSG00000064842.1               0  \n",
       "ENSMUSG00000051951.5               0  \n",
       "ENSMUSG00000102851.1               0  \n",
       "ENSMUSG00000103377.1               0  "
      ]
     },
     "execution_count": 23,
     "metadata": {},
     "output_type": "execute_result"
    }
   ],
   "source": [
    "counts_1[samples].head()"
   ]
  },
  {
   "cell_type": "code",
   "execution_count": 26,
   "metadata": {},
   "outputs": [
    {
     "data": {
      "text/plain": [
       "Geneid\n",
       "ENSMUSG00000102693.1    0.00\n",
       "ENSMUSG00000064842.1    0.00\n",
       "ENSMUSG00000051951.5    0.25\n",
       "ENSMUSG00000102851.1    0.00\n",
       "ENSMUSG00000103377.1    0.50\n",
       "dtype: float64"
      ]
     },
     "execution_count": 26,
     "metadata": {},
     "output_type": "execute_result"
    }
   ],
   "source": [
    "counts_1[samples].mean(axis=\"columns\").head() #average counts for each gene"
   ]
  },
  {
   "cell_type": "code",
   "execution_count": 27,
   "metadata": {},
   "outputs": [
    {
     "data": {
      "text/plain": [
       "Geneid\n",
       "ENSMUSG00000102693.1     False\n",
       "ENSMUSG00000064842.1     False\n",
       "ENSMUSG00000051951.5     False\n",
       "ENSMUSG00000102851.1     False\n",
       "ENSMUSG00000103377.1     False\n",
       "ENSMUSG00000104017.1     False\n",
       "ENSMUSG00000103025.1     False\n",
       "ENSMUSG00000089699.1     False\n",
       "ENSMUSG00000103201.1     False\n",
       "ENSMUSG00000103147.1     False\n",
       "ENSMUSG00000103161.1     False\n",
       "ENSMUSG00000102331.1     False\n",
       "ENSMUSG00000102348.1     False\n",
       "ENSMUSG00000102592.1     False\n",
       "ENSMUSG00000088333.2     False\n",
       "ENSMUSG00000102343.1     False\n",
       "ENSMUSG00000025900.12    False\n",
       "ENSMUSG00000102948.1     False\n",
       "ENSMUSG00000104123.1     False\n",
       "ENSMUSG00000025902.13    False\n",
       "ENSMUSG00000104238.1     False\n",
       "ENSMUSG00000102269.1     False\n",
       "ENSMUSG00000096126.1     False\n",
       "ENSMUSG00000103003.1     False\n",
       "ENSMUSG00000104328.1     False\n",
       "ENSMUSG00000102735.1     False\n",
       "ENSMUSG00000098104.1      True\n",
       "ENSMUSG00000102175.1     False\n",
       "ENSMUSG00000088000.1     False\n",
       "ENSMUSG00000103265.1     False\n",
       "                         ...  \n",
       "ENSMUSG00000064343.1      True\n",
       "ENSMUSG00000064344.1      True\n",
       "ENSMUSG00000064345.1      True\n",
       "ENSMUSG00000064346.1      True\n",
       "ENSMUSG00000064347.1      True\n",
       "ENSMUSG00000064348.1      True\n",
       "ENSMUSG00000064349.1      True\n",
       "ENSMUSG00000064350.1      True\n",
       "ENSMUSG00000064351.1      True\n",
       "ENSMUSG00000064352.1     False\n",
       "ENSMUSG00000064353.1     False\n",
       "ENSMUSG00000064354.1      True\n",
       "ENSMUSG00000064355.1     False\n",
       "ENSMUSG00000064356.3      True\n",
       "ENSMUSG00000064357.1      True\n",
       "ENSMUSG00000064358.1      True\n",
       "ENSMUSG00000064359.1      True\n",
       "ENSMUSG00000064360.1      True\n",
       "ENSMUSG00000064361.1      True\n",
       "ENSMUSG00000065947.3      True\n",
       "ENSMUSG00000064363.1      True\n",
       "ENSMUSG00000064364.1      True\n",
       "ENSMUSG00000064365.1      True\n",
       "ENSMUSG00000064366.1      True\n",
       "ENSMUSG00000064367.1      True\n",
       "ENSMUSG00000064368.1      True\n",
       "ENSMUSG00000064369.1      True\n",
       "ENSMUSG00000064370.1      True\n",
       "ENSMUSG00000064371.1      True\n",
       "ENSMUSG00000064372.1      True\n",
       "Length: 53379, dtype: bool"
      ]
     },
     "execution_count": 27,
     "metadata": {},
     "output_type": "execute_result"
    }
   ],
   "source": [
    "counts_1[samples].mean(axis=\"columns\") > 5"
   ]
  },
  {
   "cell_type": "code",
   "execution_count": 28,
   "metadata": {
    "collapsed": true
   },
   "outputs": [],
   "source": [
    "genes_to_keep = counts_1[samples].mean(axis=\"columns\") > 5"
   ]
  },
  {
   "cell_type": "code",
   "execution_count": 30,
   "metadata": {},
   "outputs": [],
   "source": [
    "clean_counts = counts_1.loc[genes_to_keep]"
   ]
  },
  {
   "cell_type": "code",
   "execution_count": 31,
   "metadata": {},
   "outputs": [
    {
     "data": {
      "text/html": [
       "<div>\n",
       "<style>\n",
       "    .dataframe thead tr:only-child th {\n",
       "        text-align: right;\n",
       "    }\n",
       "\n",
       "    .dataframe thead th {\n",
       "        text-align: left;\n",
       "    }\n",
       "\n",
       "    .dataframe tbody tr th {\n",
       "        vertical-align: top;\n",
       "    }\n",
       "</style>\n",
       "<table border=\"1\" class=\"dataframe\">\n",
       "  <thead>\n",
       "    <tr style=\"text-align: right;\">\n",
       "      <th></th>\n",
       "      <th>Length</th>\n",
       "      <th>mouse_0hr_rep1</th>\n",
       "      <th>mouse_0hr_rep2</th>\n",
       "      <th>mouse_4hr_rep1</th>\n",
       "      <th>mouse_4hr_rep2</th>\n",
       "    </tr>\n",
       "    <tr>\n",
       "      <th>Geneid</th>\n",
       "      <th></th>\n",
       "      <th></th>\n",
       "      <th></th>\n",
       "      <th></th>\n",
       "      <th></th>\n",
       "    </tr>\n",
       "  </thead>\n",
       "  <tbody>\n",
       "    <tr>\n",
       "      <th>ENSMUSG00000098104.1</th>\n",
       "      <td>1470</td>\n",
       "      <td>0</td>\n",
       "      <td>8</td>\n",
       "      <td>3</td>\n",
       "      <td>15</td>\n",
       "    </tr>\n",
       "    <tr>\n",
       "      <th>ENSMUSG00000103922.1</th>\n",
       "      <td>1069</td>\n",
       "      <td>5</td>\n",
       "      <td>7</td>\n",
       "      <td>5</td>\n",
       "      <td>8</td>\n",
       "    </tr>\n",
       "    <tr>\n",
       "      <th>ENSMUSG00000033845.13</th>\n",
       "      <td>8487</td>\n",
       "      <td>296</td>\n",
       "      <td>556</td>\n",
       "      <td>140</td>\n",
       "      <td>178</td>\n",
       "    </tr>\n",
       "    <tr>\n",
       "      <th>ENSMUSG00000025903.14</th>\n",
       "      <td>7145</td>\n",
       "      <td>425</td>\n",
       "      <td>527</td>\n",
       "      <td>285</td>\n",
       "      <td>368</td>\n",
       "    </tr>\n",
       "    <tr>\n",
       "      <th>ENSMUSG00000033813.15</th>\n",
       "      <td>3017</td>\n",
       "      <td>576</td>\n",
       "      <td>561</td>\n",
       "      <td>560</td>\n",
       "      <td>480</td>\n",
       "    </tr>\n",
       "  </tbody>\n",
       "</table>\n",
       "</div>"
      ],
      "text/plain": [
       "                       Length  mouse_0hr_rep1  mouse_0hr_rep2  mouse_4hr_rep1  \\\n",
       "Geneid                                                                          \n",
       "ENSMUSG00000098104.1     1470               0               8               3   \n",
       "ENSMUSG00000103922.1     1069               5               7               5   \n",
       "ENSMUSG00000033845.13    8487             296             556             140   \n",
       "ENSMUSG00000025903.14    7145             425             527             285   \n",
       "ENSMUSG00000033813.15    3017             576             561             560   \n",
       "\n",
       "                       mouse_4hr_rep2  \n",
       "Geneid                                 \n",
       "ENSMUSG00000098104.1               15  \n",
       "ENSMUSG00000103922.1                8  \n",
       "ENSMUSG00000033845.13             178  \n",
       "ENSMUSG00000025903.14             368  \n",
       "ENSMUSG00000033813.15             480  "
      ]
     },
     "execution_count": 31,
     "metadata": {},
     "output_type": "execute_result"
    }
   ],
   "source": [
    "clean_counts.head()"
   ]
  },
  {
   "cell_type": "code",
   "execution_count": 32,
   "metadata": {},
   "outputs": [
    {
     "data": {
      "text/plain": [
       "(53379, 5)"
      ]
     },
     "execution_count": 32,
     "metadata": {},
     "output_type": "execute_result"
    }
   ],
   "source": [
    "counts_1.shape"
   ]
  },
  {
   "cell_type": "code",
   "execution_count": 33,
   "metadata": {},
   "outputs": [
    {
     "data": {
      "text/plain": [
       "(16155, 5)"
      ]
     },
     "execution_count": 33,
     "metadata": {},
     "output_type": "execute_result"
    }
   ],
   "source": [
    "clean_counts.shape"
   ]
  },
  {
   "cell_type": "code",
   "execution_count": 34,
   "metadata": {
    "collapsed": true
   },
   "outputs": [],
   "source": [
    "save_dir = '/home/ucsd-train09/projects/mouse_LPS/featureCounts/'\n",
    "clean_counts[samples].to_csv(save_dir + \"counts_for_deseq2.csv\")"
   ]
  },
  {
   "cell_type": "code",
   "execution_count": 35,
   "metadata": {},
   "outputs": [
    {
     "data": {
      "text/html": [
       "<div>\n",
       "<style>\n",
       "    .dataframe thead tr:only-child th {\n",
       "        text-align: right;\n",
       "    }\n",
       "\n",
       "    .dataframe thead th {\n",
       "        text-align: left;\n",
       "    }\n",
       "\n",
       "    .dataframe tbody tr th {\n",
       "        vertical-align: top;\n",
       "    }\n",
       "</style>\n",
       "<table border=\"1\" class=\"dataframe\">\n",
       "  <thead>\n",
       "    <tr style=\"text-align: right;\">\n",
       "      <th></th>\n",
       "    </tr>\n",
       "  </thead>\n",
       "  <tbody>\n",
       "    <tr>\n",
       "      <th>mouse_0hr_rep1</th>\n",
       "    </tr>\n",
       "    <tr>\n",
       "      <th>mouse_0hr_rep2</th>\n",
       "    </tr>\n",
       "    <tr>\n",
       "      <th>mouse_4hr_rep1</th>\n",
       "    </tr>\n",
       "    <tr>\n",
       "      <th>mouse_4hr_rep2</th>\n",
       "    </tr>\n",
       "  </tbody>\n",
       "</table>\n",
       "</div>"
      ],
      "text/plain": [
       "Empty DataFrame\n",
       "Columns: []\n",
       "Index: [mouse_0hr_rep1, mouse_0hr_rep2, mouse_4hr_rep1, mouse_4hr_rep2]"
      ]
     },
     "execution_count": 35,
     "metadata": {},
     "output_type": "execute_result"
    }
   ],
   "source": [
    "conditions = pd.DataFrame(index = samples)\n",
    "conditions"
   ]
  },
  {
   "cell_type": "code",
   "execution_count": 36,
   "metadata": {
    "collapsed": true
   },
   "outputs": [],
   "source": [
    "conditions['condition'] = ['control', 'control', 'LPS', 'LPS']"
   ]
  },
  {
   "cell_type": "code",
   "execution_count": 37,
   "metadata": {},
   "outputs": [
    {
     "data": {
      "text/html": [
       "<div>\n",
       "<style>\n",
       "    .dataframe thead tr:only-child th {\n",
       "        text-align: right;\n",
       "    }\n",
       "\n",
       "    .dataframe thead th {\n",
       "        text-align: left;\n",
       "    }\n",
       "\n",
       "    .dataframe tbody tr th {\n",
       "        vertical-align: top;\n",
       "    }\n",
       "</style>\n",
       "<table border=\"1\" class=\"dataframe\">\n",
       "  <thead>\n",
       "    <tr style=\"text-align: right;\">\n",
       "      <th></th>\n",
       "      <th>condition</th>\n",
       "    </tr>\n",
       "  </thead>\n",
       "  <tbody>\n",
       "    <tr>\n",
       "      <th>mouse_0hr_rep1</th>\n",
       "      <td>control</td>\n",
       "    </tr>\n",
       "    <tr>\n",
       "      <th>mouse_0hr_rep2</th>\n",
       "      <td>control</td>\n",
       "    </tr>\n",
       "    <tr>\n",
       "      <th>mouse_4hr_rep1</th>\n",
       "      <td>LPS</td>\n",
       "    </tr>\n",
       "    <tr>\n",
       "      <th>mouse_4hr_rep2</th>\n",
       "      <td>LPS</td>\n",
       "    </tr>\n",
       "  </tbody>\n",
       "</table>\n",
       "</div>"
      ],
      "text/plain": [
       "               condition\n",
       "mouse_0hr_rep1   control\n",
       "mouse_0hr_rep2   control\n",
       "mouse_4hr_rep1       LPS\n",
       "mouse_4hr_rep2       LPS"
      ]
     },
     "execution_count": 37,
     "metadata": {},
     "output_type": "execute_result"
    }
   ],
   "source": [
    "conditions"
   ]
  },
  {
   "cell_type": "code",
   "execution_count": 38,
   "metadata": {
    "collapsed": true
   },
   "outputs": [],
   "source": [
    "conditions.to_csv(save_dir + \"conditions_for_deseq2.csv\")"
   ]
  },
  {
   "cell_type": "code",
   "execution_count": 39,
   "metadata": {
    "collapsed": true
   },
   "outputs": [],
   "source": [
    "clean_counts.to_csv(save_dir + \"LPS_counts_with_length.csv\")"
   ]
  },
  {
   "cell_type": "code",
   "execution_count": null,
   "metadata": {
    "collapsed": true
   },
   "outputs": [],
   "source": []
  }
 ],
 "metadata": {
  "kernelspec": {
   "display_name": "Python 2",
   "language": "python",
   "name": "python2"
  },
  "language_info": {
   "codemirror_mode": {
    "name": "ipython",
    "version": 2
   },
   "file_extension": ".py",
   "mimetype": "text/x-python",
   "name": "python",
   "nbconvert_exporter": "python",
   "pygments_lexer": "ipython2",
   "version": "2.7.13"
  }
 },
 "nbformat": 4,
 "nbformat_minor": 2
}
